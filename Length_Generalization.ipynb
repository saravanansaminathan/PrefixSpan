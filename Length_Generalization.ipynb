{
 "cells": [
  {
   "cell_type": "code",
   "execution_count": 1,
   "metadata": {},
   "outputs": [],
   "source": [
    "from collections import Counter\n",
    "# no_of_sequence=int(input(\"no.of_sequence \"))\n",
    "# db = [[] for _ in range(no_of_sequence)]\n",
    "# e\n",
    "# f\n",
    "# for i in range(len(db)):\n",
    "#     length=int(input(\"enter the length of sequence\"))\n",
    "#     for j in range(length):\n",
    "#         db[i].append((input(\"\")))"
   ]
  },
  {
   "cell_type": "code",
   "execution_count": 2,
   "metadata": {},
   "outputs": [],
   "source": [
    "db=[['1', '3','1', '2', 'a','1', '1', 'v', 'v', '2', 'k'],\n",
    " ['1', 'k', '1', '2','b', 'c', 'c', '1', '2'],\n",
    " ['a', '1', 'c', 'k', '1', 'v', 'a', '1'],\n",
    " ['1', 'b','?', '1', '1', 'w', 'b', '2'],\n",
    "   ['1', 'w','a','1','2']]"
   ]
  },
  {
   "cell_type": "code",
   "execution_count": 3,
   "metadata": {},
   "outputs": [
    {
     "name": "stdout",
     "output_type": "stream",
     "text": [
      "give the min support 3\n",
      "3\n"
     ]
    },
    {
     "data": {
      "text/plain": [
       "list"
      ]
     },
     "execution_count": 3,
     "metadata": {},
     "output_type": "execute_result"
    }
   ],
   "source": [
    "min_support = int(input(\"give the min support \"))\n",
    "print(min_support)\n",
    "type(db)"
   ]
  },
  {
   "cell_type": "code",
   "execution_count": 4,
   "metadata": {},
   "outputs": [],
   "source": [
    "def unique_feautures(x):\n",
    "    arr=[]\n",
    "    settemp=set()\n",
    "    unique_elements=set()\n",
    "    for i in range(len(x)):\n",
    "        for j in x[i]:\n",
    "            unique_elements.add(j)\n",
    "            settemp.add(j)\n",
    "        arr.extend(settemp)\n",
    "        settemp=set()\n",
    "    type(arr)\n",
    "    return arr"
   ]
  },
  {
   "cell_type": "code",
   "execution_count": 5,
   "metadata": {},
   "outputs": [],
   "source": [
    "def frequency(arr):\n",
    "    temp=[]\n",
    "    freq = Counter(arr)\n",
    "    for key, value in freq.items():\n",
    "#         print(key, \" -> \", value)\n",
    "        if(value<min_support):\n",
    "            temp.append(key)\n",
    "    for i in temp:\n",
    "        freq.pop(i)\n",
    "    return freq\n"
   ]
  },
  {
   "cell_type": "code",
   "execution_count": 6,
   "metadata": {},
   "outputs": [
    {
     "data": {
      "text/plain": [
       "['1', 'k', '2', 'a']"
      ]
     },
     "execution_count": 6,
     "metadata": {},
     "output_type": "execute_result"
    }
   ],
   "source": [
    "def listconversion(db):\n",
    "    mainkey=[]\n",
    "    for i in frequency(unique_feautures(db)).keys():\n",
    "        mainkey.append(i)\n",
    "    return mainkey\n",
    "listconversion(db)"
   ]
  },
  {
   "cell_type": "code",
   "execution_count": 7,
   "metadata": {},
   "outputs": [],
   "source": [
    "def proj_db(db,arr):\n",
    "    listempty=[]\n",
    "    finallist=[]\n",
    "    inc=0\n",
    "    projected_db=[]\n",
    "    projected_db = [1] * (len(frequency(arr)))\n",
    "    for k in arr.keys():\n",
    "#         print(k,':')\n",
    "        count=0\n",
    "        for i in range(len(db)):\n",
    "            for j in db[i]:\n",
    "                if(j==k or count==1):\n",
    "                    if(count==1):\n",
    "                        listempty.append(j)\n",
    "                    count=1\n",
    "            if(listempty!=[]):\n",
    "                finallist.append(listempty)\n",
    "                listempty=[]\n",
    "            count=0\n",
    "        projected_db[inc]=finallist\n",
    "        inc+=1\n",
    "        finallist=[]\n",
    "    return projected_db\n"
   ]
  },
  {
   "cell_type": "code",
   "execution_count": 8,
   "metadata": {},
   "outputs": [
    {
     "name": "stdout",
     "output_type": "stream",
     "text": [
      "1 [['3', '1', '2', 'a', '1', '1', 'v', 'v', '2', 'k'], ['k', '1', '2', 'b', 'c', 'c', '1', '2'], ['c', 'k', '1', 'v', 'a', '1'], ['b', '?', '1', '1', 'w', 'b', '2'], ['w', 'a', '1', '2']]\n",
      "k [['1', '2', 'b', 'c', 'c', '1', '2'], ['1', 'v', 'a', '1']]\n",
      "2 [['a', '1', '1', 'v', 'v', '2', 'k'], ['b', 'c', 'c', '1', '2']]\n",
      "a [['1', '1', 'v', 'v', '2', 'k'], ['1', 'c', 'k', '1', 'v', 'a', '1'], ['1', '2']]\n",
      "['11', '1k', '12', '1a', 'a1']\n",
      "\n",
      "\n",
      "['11', '1k', '12', '1a', 'a1']\n",
      "dcvhgevc\n",
      "['11', '1k', '12', '1a', 'a1']\n",
      "\n",
      "\n",
      "['1', 'k', '2', 'a'] --> [[['2', 'a', '1', '1', 'v', 'v', '2', 'k'], ['2', 'b', 'c', 'c', '1', '2'], ['v', 'a', '1'], ['1', 'w', 'b', '2'], ['2']], [['1', '2', 'b', 'c', 'c', '1', '2'], ['1', 'v', 'a', '1']], [['a', '1', '1', 'v', 'v', '2', 'k'], ['b', 'c', 'c', '1', '2']], [['1', '1', 'v', 'v', '2', 'k'], ['1'], ['1', '2']]]\n",
      "4\n",
      "5\n",
      "2\n",
      "2\n",
      "3\n",
      "[] --> []\n",
      "[] --> []\n",
      "['1'] --> [[['1', 'v', 'v', '2', 'k'], ['c', 'k', '1', 'v', 'a', '1'], ['2']]]\n",
      "1\n",
      "3\n",
      "['11', '1k', '12', '1a', 'a1']\n",
      "['1', '2']\n",
      "[]\n",
      "[]\n",
      "['1']\n",
      "[]\n",
      "['11', '1k', '12', '1a', 'a1']\n",
      "[['1', '2'], [], [], ['1'], []] <class 'list'>\n"
     ]
    }
   ],
   "source": [
    "#Hard code:\n",
    "\n",
    "#initial declarations\n",
    "label_list=[]\n",
    "keys=[]\n",
    "final_ans=[]\n",
    "sub_projected_db=[]\n",
    "my_sequential=[]\n",
    "temp=[]\n",
    "\n",
    "#create proj db and the primary keys\n",
    "projected_db=proj_db(db,frequency(unique_feautures(db)))\n",
    "\n",
    "for i in frequency(unique_feautures(db)).keys():\n",
    "    keys.append(i)\n",
    "for i in range(len(keys)):\n",
    "    print(keys[i],projected_db[i])\n",
    "\n",
    "#create secondary proj.db and it's keys\n",
    "    \n",
    "for j in range(len(projected_db)):\n",
    "    keys_pahse1=[]\n",
    "    sub_projected_db.append(proj_db(projected_db[j],frequency(unique_feautures(projected_db[j]))))\n",
    "    \n",
    "    for i in frequency(unique_feautures(projected_db[j])).keys():\n",
    "        keys_pahse1.append(i)\n",
    "    keys_pahse1\n",
    "    temp.append(keys_pahse1)\n",
    "    for i in keys_pahse1:\n",
    "        final_ans.append(keys[j]+i)\n",
    "        my_sequential.append(i)\n",
    "two_sequence=final_ans\n",
    "\n",
    "for i in range(len(sub_projected_db)):\n",
    "    print(temp[i],\"-->\",sub_projected_db[i])\n",
    "    if(sub_projected_db[i]!=[]):\n",
    "        print(len(sub_projected_db[i]))\n",
    "        for j in range(len(sub_projected_db[i])):\n",
    "            print(len(sub_projected_db[i][j]))\n",
    "\n",
    "unknown=[]\n",
    "print(two_sequence)\n",
    "for i in range(len(sub_projected_db)):  \n",
    "    for j in range(len(sub_projected_db[i])):\n",
    "        print(listconversion(sub_projected_db[i][j]))\n",
    "        \n",
    "        unknown.append(listconversion(sub_projected_db[i][j]))\n",
    "print(two_sequence)\n",
    "print(unknown,type(unknown))"
   ]
  },
  {
   "cell_type": "code",
   "execution_count": 9,
   "metadata": {},
   "outputs": [
    {
     "name": "stdout",
     "output_type": "stream",
     "text": [
      "['11', '1k', '12', '1a', 'a1']\n",
      "111\n",
      "112\n",
      "1a1\n",
      "1a2\n"
     ]
    },
    {
     "data": {
      "text/plain": [
       "['11', '1k', '12', '1a', 'a1', '111', '112', '1a1', '1a2', '1', 'k', '2', 'a']"
      ]
     },
     "execution_count": 9,
     "metadata": {},
     "output_type": "execute_result"
    }
   ],
   "source": [
    "secondary_key=[]\n",
    "for i in range(len(temp)):\n",
    "    for j in temp[i]:\n",
    "        secondary_key.append(j)\n",
    "a=final_ans\n",
    "print(final_ans)\n",
    "final_answer=[]\n",
    "lists=unknown\n",
    "for i in range(len(a)):\n",
    "    for j in range(len(lists[i])):\n",
    "        for k in lists[j]:\n",
    "            print(a[i]+k)\n",
    "            final_answer.append(a[i]+k)\n",
    "\n",
    "my_pattern=[]\n",
    "for i in final_ans:\n",
    "    my_pattern.append(i)\n",
    "for i in final_answer:\n",
    "    my_pattern.append(i)\n",
    "for i in keys:\n",
    "    my_pattern.append(i)\n",
    "my_pattern"
   ]
  },
  {
   "cell_type": "code",
   "execution_count": null,
   "metadata": {},
   "outputs": [],
   "source": [
    "['11', '12', '1a', '1k', 'a1', '111', '112', '1a1', '1a2', '1', '2', 'a', 'k']"
   ]
  },
  {
   "cell_type": "code",
   "execution_count": null,
   "metadata": {},
   "outputs": [],
   "source": []
  }
 ],
 "metadata": {
  "kernelspec": {
   "display_name": "Python 3",
   "language": "python",
   "name": "python3"
  },
  "language_info": {
   "codemirror_mode": {
    "name": "ipython",
    "version": 3
   },
   "file_extension": ".py",
   "mimetype": "text/x-python",
   "name": "python",
   "nbconvert_exporter": "python",
   "pygments_lexer": "ipython3",
   "version": "3.6.4"
  }
 },
 "nbformat": 4,
 "nbformat_minor": 2
}
